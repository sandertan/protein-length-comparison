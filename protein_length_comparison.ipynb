{
 "cells": [
  {
   "cell_type": "markdown",
   "metadata": {},
   "source": [
    "# Comparing protein length between GenomeNexus to length derived from CDS\n",
    "This notebook compares:\n",
    "  1. The protein length derived from Genome Nexus, originally from Ensembl\n",
    "  2. The protein length derived from `Home_sampiens.GRCh37.87.gff3` which is also from Ensembl, but contains the locations of exons, untranslated regions (UTRs). With this information, we can calculate the coding sequence (CDS). For complete transcripts, dividing the length of CDS by 3 and subtracting 1 amino acid for stop codon, will result in the length of the protein sequence. \n",
    "\n",
    "## Calculation\n",
    "First we calculate the protein length based on the sequence in the GFF3 file."
   ]
  },
  {
   "cell_type": "code",
   "execution_count": 90,
   "metadata": {
    "collapsed": true
   },
   "outputs": [],
   "source": [
    "import numpy as np\n",
    "import requests\n",
    "import matplotlib.pyplot as mpl\n",
    "mpl.style.use('ggplot')\n",
    "\n",
    "input_gff_file = '/Users/sander/Desktop/Homo_sapiens.GRCh37.87.gff3'\n",
    "transcript_dict = {}\n",
    "transcript_id = ''\n",
    "mRNA_entry = False\n",
    "\n",
    "def calculate_protein_length(transcript_dict, transcript_id):\n",
    "    # The stopcodon is not translated, therefore subtract of the protein length.\n",
    "    transcript_dict[transcript_id]['calculated_protein_length'] = (((transcript_dict[transcript_id]['total_length_exons'] - transcript_dict[transcript_id]['total_length_utr']) / 3 ) - 1)\n",
    "    return transcript_dict\n",
    "\n",
    "with open(input_gff_file, 'r') as input_gff:\n",
    "    \n",
    "    for line in input_gff:\n",
    "        line_list = line.strip().split(\"\\t\")\n",
    "\n",
    "        if line[0] != '#':\n",
    "            # All protein coding transcripts start with a row containing 'mRNA'\n",
    "            if line_list[2] == 'mRNA':\n",
    "\n",
    "                # For the previous transcript, calculate the length\n",
    "                if transcript_id != '':\n",
    "                    transcript_dict = calculate_protein_length(transcript_dict, transcript_id)\n",
    "\n",
    "                # Retrieve data\n",
    "                attribute_dict = dict(item.split(\"=\") for item in line_list[8].split(\";\"))\n",
    "                transcript_id = attribute_dict['ID'].split(':')[1]\n",
    "                transcript_dict[transcript_id] = {}\n",
    "                transcript_dict[transcript_id]['total_length_exons'] = 0\n",
    "                transcript_dict[transcript_id]['total_length_utr'] = 0\n",
    "\n",
    "                # Many non-coding transcripts are also contained in the file, therefore only check exons and UTRs when it's mRNA\n",
    "                mRNA_entry = True\n",
    "\n",
    "            # Ranges are inclusive, therefore add 1 basepair to obtain the correct number of bases per region\n",
    "            elif line_list[2] == 'exon' and mRNA_entry:\n",
    "                transcript_dict[transcript_id]['total_length_exons'] = (int(line_list[4]) - int(line_list[3]) + 1) + transcript_dict[transcript_id]['total_length_exons']\n",
    "            elif line_list[2] in ['five_prime_UTR', 'three_prime_UTR'] and mRNA_entry:\n",
    "                transcript_dict[transcript_id]['total_length_utr'] = (int(line_list[4]) - int(line_list[3]) + 1) + transcript_dict[transcript_id]['total_length_utr']\n",
    "            elif line_list[2] == 'CDS':\n",
    "                pass\n",
    "            \n",
    "            # There can be a row between transcripts of the same gene\n",
    "            else:\n",
    "                mRNA_entry = False\n",
    "                \n",
    "        # All genes end with a row containing '###'\n",
    "        elif line[0:3] == '###':\n",
    "            mRNA_entry = False\n",
    "                                \n",
    "    # For the last transcript, calculate the length\n",
    "    transcript_dict = calculate_protein_length(transcript_dict, transcript_id)            "
   ]
  },
  {
   "cell_type": "markdown",
   "metadata": {},
   "source": [
    "Secondly, we retrieve the protein lengths from Genome Nexus"
   ]
  },
  {
   "cell_type": "code",
   "execution_count": 109,
   "metadata": {
    "collapsed": true
   },
   "outputs": [],
   "source": [
    "\"\"\"Retrieve transcript and exons information from Genome Nexus.\"\"\"\n",
    "request_url = \"http://genomenexus.org/ensembl/transcript\"\n",
    "request_headers = {'Content-Type': 'application/json', 'Accept': 'application/json'}\n",
    "request_data = '{ \"transcriptIds\" : [\"%s\"] }' % ('\", \"'.join(transcript_dict.keys()))\n",
    "request = requests.post(url=request_url, headers=request_headers, data=request_data)\n",
    "\n",
    "# Parse transcripts and exons from JSON\n",
    "result_json = request.json()\n"
   ]
  },
  {
   "cell_type": "markdown",
   "metadata": {},
   "source": [
    "Lastly, we compare the lengths and plot the result."
   ]
  },
  {
   "cell_type": "code",
   "execution_count": 120,
   "metadata": {},
   "outputs": [
    {
     "data": {
      "image/png": "[encoded data removed]",
      "text/plain": [
       "<matplotlib.figure.Figure at 0x11f36cf50>"
      ]
     },
     "metadata": {},
     "output_type": "display_data"
    }
   ],
   "source": [
    "protein_length_dict = {}\n",
    "for transcript in result_json:\n",
    "    transcriptId = transcript['transcriptId']\n",
    "\n",
    "    if 'proteinLength' not in transcript:\n",
    "        protein_length_dict[transcriptId] = None\n",
    "    else:\n",
    "        protein_length_dict[transcriptId] = transcript['proteinLength']\n",
    "\n",
    "difference_list = []\n",
    "for i in transcript_dict:\n",
    "\n",
    "    difference = protein_length_dict[i] - transcript_dict[i]['calculated_protein_length']\n",
    "    difference_list.append(difference)\n",
    "\n",
    "keys, counts = np.unique(difference_list, return_counts=True)\n",
    "plt.bar(keys, counts, tick_label = ['0', '1', '2'],)\n",
    "plt.title('Difference between in protein length')\n",
    "plt.ylabel('Occurences')\n",
    "plt.xlabel('Amino acids')\n",
    "plt.show()"
   ]
  },
  {
   "cell_type": "markdown",
   "metadata": {},
   "source": [
    "There is a difference between the calculated protein lengths and the Genome Nexus protein lenghts, for about 1 third of the transcripts. After manual inspection of these transcript, it appears that the CDS is incomplete on ENSEMBL. Therefore, a stop or start codon is often missing. This has been described on http://lists.ensembl.org/pipermail/dev/2014-April/010022.html. \n",
    "\n",
    "### Example\n",
    "An example of this is ENST00000134644 on http://feb2014.archive.ensembl.org/Homo_sapiens/Transcript/Exons?db=core;g=ENSG00000134644;r=1:31532126-31534763;t=ENST00000531867. This length of the protein is 96 basepairs, while the (coding sequence / 3 ) - 1 results in 95 basepairs. If you manually inspect the basepairs, you will notice a appears a stop codon is missing. The upper table describes this incompleteness by \"CDS incomplete\" on the \"3'\". "
   ]
  },
  {
   "cell_type": "markdown",
   "metadata": {},
   "source": [
    "## Conclusion\n",
    "\n",
    "### Incomplete transcripts\n",
    "The CDS can be incomplete on both the 5' and 3' side of the transcript, which leads to differences in the protein lengths. Although these differences appear to be small, they are only caused by missing start or stop codons. This means that the difference can be larger. For our visualization this does not matter, because UniProt displays the same length as the (incomplete) length on Ensembl (and Genome Nexus). This means the location of PFAM domains are also drawn regardless of the (incomplete) length.\n",
    "\n",
    "### Next step\n",
    "To map the PFAM domains on exons of a transcript, multiply the PFAM domain locations by 3, and add the 5' UTR. I think that potentially drawing 1 amino acid less on either side is not a problem.\n",
    "\n",
    "### Example\n",
    "For example, a transcript is \n",
    "  - 500 bases long\n",
    "  - has 100 bp 5' UTR\n",
    "  - has 50 bp 3' UTR\n",
    "The PFAM domain is located on protein locations 40-60. \n",
    "\n",
    "When drawing the locations of PFAM domains on reference transcript, that consists of all exons, <b>including the UTRs</b>:\n",
    "- PFAM start on transcript = 40\\*3 + 100 = location 220 of the reference transcript.\n",
    "- PFAM end on transcript = 60\\*3 + 100 = location 280 of the reference transcript."
   ]
  },
  {
   "cell_type": "markdown",
   "metadata": {},
   "source": [
    "# PFAM\n",
    "Additionaly, we checked whether the PFAM positions and protein lenghts in Ensembl are the same. This looks like it, since PFAM uses UniProt (\"Pfam pre-calculates the domain compositions and architectures for all the proteomes present in our snapshot of UniProt proteomes. \"\n",
    "\n",
    "Protein lengths are from Ensembl Lookup (http://grch37.rest.ensembl.org/documentation/info/lookup and https://github.com/genome-nexus/genome-nexus-importer/blob/88f0d68d1ffc877af2f54921950aa576336c9062/scripts/download_transcript_info_from_ensembl.py#L7).\n",
    "\n",
    "PFAM positions from Ensembl are retrieved through BioMart. (https://github.com/genome-nexus/genome-nexus-importer/tree/88f0d68d1ffc877af2f54921950aa576336c9062#pfam-endpoint)"
   ]
  }
 ],
 "metadata": {
  "kernelspec": {
   "display_name": "Python [conda env:anaconda]",
   "language": "python",
   "name": "conda-env-anaconda-py"
  },
  "language_info": {
   "codemirror_mode": {
    "name": "ipython",
    "version": 2
   },
   "file_extension": ".py",
   "mimetype": "text/x-python",
   "name": "python",
   "nbconvert_exporter": "python",
   "pygments_lexer": "ipython2",
   "version": "2.7.13"
  }
 },
 "nbformat": 4,
 "nbformat_minor": 2
}
